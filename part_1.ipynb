{
  "nbformat": 4,
  "nbformat_minor": 0,
  "metadata": {
    "colab": {
      "provenance": [],
      "authorship_tag": "ABX9TyPAbl1omBFUJQrLNjbgngXu",
      "include_colab_link": true
    },
    "kernelspec": {
      "name": "python3",
      "display_name": "Python 3"
    },
    "language_info": {
      "name": "python"
    }
  },
  "cells": [
    {
      "cell_type": "markdown",
      "metadata": {
        "id": "view-in-github",
        "colab_type": "text"
      },
      "source": [
        "<a href=\"https://colab.research.google.com/github/khairulhabibie/py_data_analyst/blob/Exploratory-Data-Analysis-with-Python-for-Beginner/part_1.ipynb\" target=\"_parent\"><img src=\"https://colab.research.google.com/assets/colab-badge.svg\" alt=\"Open In Colab\"/></a>"
      ]
    },
    {
      "cell_type": "code",
      "source": [
        "import io\n",
        "import pandas as pd\n",
        "order_df = pd.read_csv(\"https://storage.googleapis.com/dqlab-dataset/order.csv\")"
      ],
      "metadata": {
        "id": "eFRoAtl6-ecb"
      },
      "execution_count": 2,
      "outputs": []
    },
    {
      "cell_type": "code",
      "source": [
        "## Melihat struktur kolom dan baris dari data frame\n",
        "print(order_df.shape)"
      ],
      "metadata": {
        "colab": {
          "base_uri": "https://localhost:8080/"
        },
        "id": "rVAQQO8sC6Hk",
        "outputId": "16cee38f-21ad-49eb-fc5e-9e2dcf1ccde6"
      },
      "execution_count": 3,
      "outputs": [
        {
          "output_type": "stream",
          "name": "stdout",
          "text": [
            "(49999, 12)\n"
          ]
        }
      ]
    },
    {
      "cell_type": "code",
      "source": [
        "## Melihat preview data dari data frame\n",
        "# print(order_df.head()) \n",
        "# print(order_df.tail())\n",
        "print(order_df.head(10))"
      ],
      "metadata": {
        "colab": {
          "base_uri": "https://localhost:8080/"
        },
        "id": "HZTlwr8ILVPx",
        "outputId": "3c46da06-d4f8-481b-af4f-02b866b6a04b"
      },
      "execution_count": 4,
      "outputs": [
        {
          "output_type": "stream",
          "name": "stdout",
          "text": [
            "                           order_id  quantity  \\\n",
            "0  2e7a8482f6fb09756ca50c10d7bfc047         2   \n",
            "1  2e7a8482f6fb09756ca50c10d7bfc047         1   \n",
            "2  e5fa5a7210941f7d56d0208e4e071d35         1   \n",
            "3  3b697a20d9e427646d92567910af6d57         1   \n",
            "4  71303d7e93b399f5bcd537d124c0bcfa         1   \n",
            "\n",
            "                         product_id    price  \\\n",
            "0  f293394c72c9b5fafd7023301fc21fc2  1489000   \n",
            "1  c1488892604e4ba5cff5b4eb4d595400  1756000   \n",
            "2  f3c2d01a84c947b078e32bbef0718962  1707000   \n",
            "3  3ae08df6bcbfe23586dd431c40bddbb7  3071000   \n",
            "4  d2998d7ced12f83f9b832f33cf6507b6  3833000   \n",
            "\n",
            "                          seller_id  freight_value  \\\n",
            "0  1554a68530182680ad5c8b042c3ab563          28000   \n",
            "1  1554a68530182680ad5c8b042c3ab563          45000   \n",
            "2  a425f92c199eb576938df686728acd20         174000   \n",
            "3  522620dcb18a6b31cd7bdf73665113a9         154000   \n",
            "4  25e6ffe976bd75618accfe16cefcbd0d         147000   \n",
            "\n",
            "                        customer_id order_status purchase_date  \\\n",
            "0  08c5351a6aca1c1589a38f244edeee9d      shipped    2016-09-05   \n",
            "1  08c5351a6aca1c1589a38f244edeee9d      shipped    2016-09-05   \n",
            "2  683c54fc24d40ee9f8a6fc179fd9856c     canceled    2016-09-05   \n",
            "3  355077684019f7f60a031656bd7262b8    delivered    2016-10-03   \n",
            "4  b106b360fe2ef8849fbbd056f777b4d5     canceled    2016-10-03   \n",
            "\n",
            "      payment_type product_category_name  product_weight_gram  \n",
            "0  virtual account               fashion               1800.0  \n",
            "1  virtual account            automotive               1400.0  \n",
            "2         e-wallet                  toys                700.0  \n",
            "3         e-wallet             utilities                300.0  \n",
            "4         e-wallet               fashion                500.0  \n"
          ]
        }
      ]
    },
    {
      "cell_type": "code",
      "source": [
        "## Statistik Deskriptif dari Data Frame - Part 1\n",
        "# print(order_df.describe(include=\"all\"))\n",
        "'''\n",
        "enambahkan argument bernama include = \"all\" untuk mendapatkan summary statistik atau statistik deskriptif dari kolom numerik dan karakter.\n",
        "'''\n",
        "print(order_df.describe())"
      ],
      "metadata": {
        "colab": {
          "base_uri": "https://localhost:8080/"
        },
        "id": "4jJsayz2MX3Q",
        "outputId": "34addc38-e1cc-491d-b320-5592affb3988"
      },
      "execution_count": 7,
      "outputs": [
        {
          "output_type": "stream",
          "name": "stdout",
          "text": [
            "           quantity         price  freight_value  product_weight_gram\n",
            "count  49999.000000  4.999900e+04   49999.000000         49980.000000\n",
            "mean       1.197484  2.607784e+06  104521.390428          2201.830892\n",
            "std        0.722262  1.388312e+06   55179.844962          3929.896875\n",
            "min        1.000000  2.000000e+05    9000.000000            50.000000\n",
            "25%        1.000000  1.410500e+06   57000.000000           300.000000\n",
            "50%        1.000000  2.610000e+06  104000.000000           800.000000\n",
            "75%        1.000000  3.810000e+06  152000.000000          1850.000000\n",
            "max       21.000000  5.000000e+06  200000.000000         40425.000000\n"
          ]
        }
      ]
    },
    {
      "cell_type": "code",
      "source": [
        "## Statistik Deskriptif dari Data Frame - Part 2\n",
        "'''\n",
        "Jika ingin mendapatkan summary statistik dari kolom yang tidak bernilai angka, maka aku dapat menambahkan command include=[\"object\"] \n",
        "pada syntax describe().\n",
        "'''\n",
        "print(order_df.describe(include=[\"object\"]))"
      ],
      "metadata": {
        "colab": {
          "base_uri": "https://localhost:8080/"
        },
        "id": "Tj5eYvO3M7qI",
        "outputId": "4e235f52-8b8f-45b3-d89e-8d67f13e290b"
      },
      "execution_count": 8,
      "outputs": [
        {
          "output_type": "stream",
          "name": "stdout",
          "text": [
            "                                order_id                        product_id  \\\n",
            "count                              49999                             49999   \n",
            "unique                             42694                             16866   \n",
            "top     8272b63d03f5f79c56e9e4120aec44ef  99a4788cb24856965c36a24e339b6058   \n",
            "freq                                  21                               366   \n",
            "\n",
            "                               seller_id                       customer_id  \\\n",
            "count                              49999                             49999   \n",
            "unique                              1777                             42694   \n",
            "top     4a3ca9315b744ce9f8e9374361493884  fc3d1daec319d62d49bfb5e1f83123e9   \n",
            "freq                                1236                                21   \n",
            "\n",
            "       order_status purchase_date     payment_type product_category_name  \n",
            "count         49999         49999            49999                 49999  \n",
            "unique            7           356                4                     8  \n",
            "top       delivered    2017-11-24  virtual account                  toys  \n",
            "freq          48664          1015            12581                  6375  \n"
          ]
        }
      ]
    },
    {
      "cell_type": "code",
      "source": [
        "## Statistik Deskriptif dari Data Frame - Part 3\n",
        "''' menggunakan syntax mean, median, dan mode dari Pandas. '''\n",
        "print(order_df.loc[:, \"price\"].mean())\n",
        "print(order_df.loc[:, \"price\"].median())\n",
        "print(order_df.loc[:, \"price\"].mode())"
      ],
      "metadata": {
        "colab": {
          "base_uri": "https://localhost:8080/"
        },
        "id": "z_WZxKGZNWSF",
        "outputId": "f65c3a7c-3cf3-438b-df8b-ba391af574ae"
      },
      "execution_count": 18,
      "outputs": [
        {
          "output_type": "stream",
          "name": "stdout",
          "text": [
            "2607783.9156783135\n",
            "2610000.0\n",
            "0    3174000\n",
            "1    3627000\n",
            "dtype: int64\n"
          ]
        }
      ]
    },
    {
      "cell_type": "code",
      "source": [
        "### tugas praktek\n",
        "import pandas as pd\n",
        "order_df = pd.read_csv(\"https://storage.googleapis.com/dqlab-dataset/order.csv\")\n",
        "# Quick summary  dari segi kuantitas, harga, freight value, dan weight\n",
        "print(order_df.describe())\n",
        "# Median dari total pembelian konsumen per transaksi kolom price\n",
        "print(order_df.loc[:, \"price\"].median())"
      ],
      "metadata": {
        "colab": {
          "base_uri": "https://localhost:8080/"
        },
        "id": "t0LRBwCWPb2g",
        "outputId": "3aa1a640-d31f-4992-fc95-65d2591b7c53"
      },
      "execution_count": 19,
      "outputs": [
        {
          "output_type": "stream",
          "name": "stdout",
          "text": [
            "           quantity         price  freight_value  product_weight_gram\n",
            "count  49999.000000  4.999900e+04   49999.000000         49980.000000\n",
            "mean       1.197484  2.607784e+06  104521.390428          2201.830892\n",
            "std        0.722262  1.388312e+06   55179.844962          3929.896875\n",
            "min        1.000000  2.000000e+05    9000.000000            50.000000\n",
            "25%        1.000000  1.410500e+06   57000.000000           300.000000\n",
            "50%        1.000000  2.610000e+06  104000.000000           800.000000\n",
            "75%        1.000000  3.810000e+06  152000.000000          1850.000000\n",
            "max       21.000000  5.000000e+06  200000.000000         40425.000000\n",
            "2610000.0\n"
          ]
        }
      ]
    }
  ]
}