{
  "nbformat": 4,
  "nbformat_minor": 0,
  "metadata": {
    "colab": {
      "provenance": [],
      "authorship_tag": "ABX9TyOhdrIzAHec7neSJvLmYRyi",
      "include_colab_link": true
    },
    "kernelspec": {
      "name": "python3",
      "display_name": "Python 3"
    },
    "language_info": {
      "name": "python"
    }
  },
  "cells": [
    {
      "cell_type": "markdown",
      "metadata": {
        "id": "view-in-github",
        "colab_type": "text"
      },
      "source": [
        "<a href=\"https://colab.research.google.com/github/khairulhabibie/py_data_analyst/blob/Data-Visualization-with-Python-Matplotlib-for-Beginner---Part-1/%5B1%5D_Pengenalan_Matplotlib_dan_Persiapan_Dataset.ipynb\" target=\"_parent\"><img src=\"https://colab.research.google.com/assets/colab-badge.svg\" alt=\"Open In Colab\"/></a>"
      ]
    },
    {
      "cell_type": "markdown",
      "source": [
        "# ***Pengenalan Matplotlib dan Persiapan Dataset***\n",
        "\n",
        "--- \n",
        "\n",
        "```\n",
        "*   Pengolahan dataset (menggunakan li[link text](https://)brary NumPy & Pandas).\n",
        "*   Membuat grafik dasar menggunakan matplotlib.\n",
        "*   Melakukan modifikasi komponen visualisasi, seperti axis, labels, title, dan legend.\n",
        "*   Menyimpan plot visualisasi yang sudah dibuat\n",
        "```"
      ],
      "metadata": {
        "id": "ceBCbIA4tnKr"
      }
    },
    {
      "cell_type": "code",
      "execution_count": 2,
      "metadata": {
        "colab": {
          "base_uri": "https://localhost:8080/"
        },
        "id": "IJXdX4wVtYh8",
        "outputId": "a8044f61-d421-4f59-a492-5c0744a83a64"
      },
      "outputs": [
        {
          "output_type": "stream",
          "name": "stdout",
          "text": [
            "Ukuran dataset: 5000 baris dan 9 kolom\n",
            "\n",
            "Lima data teratas:\n",
            "   order_id  order_date  customer_id             city     province product_id  \\\n",
            "0   1703458  2019-10-17        14004  Jakarta Selatan  DKI Jakarta      P1910   \n",
            "1   1706815  2019-10-24        17220  Jakarta Selatan  DKI Jakarta      P2934   \n",
            "2   1710718  2019-11-03        16518    Jakarta Utara  DKI Jakarta      P0908   \n",
            "3   1683592  2019-08-19        16364    Jakarta Barat  DKI Jakarta      P0128   \n",
            "4   1702573  2019-10-16        15696    Jakarta Timur  DKI Jakarta      P2968   \n",
            "\n",
            "     brand  quantity  item_price  \n",
            "0  BRAND_J        10      740000  \n",
            "1  BRAND_R         2      604000  \n",
            "2  BRAND_C         8     1045000  \n",
            "3  BRAND_A         4      205000  \n",
            "4  BRAND_R         2     4475000  \n"
          ]
        }
      ],
      "source": [
        "### pengenalan dataset\n",
        "import pandas as pd\n",
        "dataset = pd.read_csv(\"https://storage.googleapis.com/dqlab-dataset/retail_raw_reduced.csv\")\n",
        "print(\"Ukuran dataset: %d baris dan %d kolom\\n\" % dataset.shape)\n",
        "print(\"Lima data teratas:\")\n",
        "print(dataset.head())"
      ]
    },
    {
      "cell_type": "markdown",
      "source": [
        "# ***Penjelasan Dataset***\n",
        "\n",
        "---\n",
        "\n",
        "* `order_id` : ID dari order/transaksi, 1 transaksi bisa terdiri dari beberapa produk, tetapi hanya dilakukan oleh 1 customer\n",
        "* `order_date` : tanggal terjadinya transaksi\n",
        "* `customer_id` : ID dari pembeli, bisa jadi dalam satu hari, 1 customer melakukan transaksi beberapa kali\n",
        "* `city `: kota tempat toko terjadinya transaksi\n",
        "* `province` : provinsi (berdasarkan city)\n",
        "* `product_id` : ID dari suatu product yang dibeli\n",
        "* `brand` : brand/merk dari product. Suatu product yang sama pasti memiliki brand yang sama\n",
        "* `quantity` : Kuantitas/banyaknya product yang dibeli\n",
        "* `item_price` : Harga dari 1 product (dalam Rupiah). Suatu product yang sama, bisa jadi memiliki harga yang berbeda saat dibeli"
      ],
      "metadata": {
        "id": "k5U1RvM_wnYN"
      }
    },
    {
      "cell_type": "code",
      "source": [
        "### Penambahan Kolom Order Month pada Dataset\n",
        "import pandas as pd\n",
        "import datetime\n",
        "\n",
        "dataset = pd.read_csv(\"https://storage.googleapis.com/dqlab-dataset/retail_raw_reduced.csv\")\n",
        "dataset[\"order_month\"] = dataset[\"order_date\"].apply(lambda x: datetime.datetime.strptime(x, \"%Y-%m-%d\").strftime(\"%Y-%m\"))\n",
        "print(dataset.head())"
      ],
      "metadata": {
        "colab": {
          "base_uri": "https://localhost:8080/"
        },
        "id": "8mbE4d8vxoIK",
        "outputId": "20081a15-e81d-4d22-8e67-5c739952e8cd"
      },
      "execution_count": 10,
      "outputs": [
        {
          "output_type": "stream",
          "name": "stdout",
          "text": [
            "   order_id  order_date  customer_id             city     province product_id  \\\n",
            "0   1703458  2019-10-17        14004  Jakarta Selatan  DKI Jakarta      P1910   \n",
            "1   1706815  2019-10-24        17220  Jakarta Selatan  DKI Jakarta      P2934   \n",
            "2   1710718  2019-11-03        16518    Jakarta Utara  DKI Jakarta      P0908   \n",
            "3   1683592  2019-08-19        16364    Jakarta Barat  DKI Jakarta      P0128   \n",
            "4   1702573  2019-10-16        15696    Jakarta Timur  DKI Jakarta      P2968   \n",
            "\n",
            "     brand  quantity  item_price order_month  \n",
            "0  BRAND_J        10      740000     2019-10  \n",
            "1  BRAND_R         2      604000     2019-10  \n",
            "2  BRAND_C         8     1045000     2019-11  \n",
            "3  BRAND_A         4      205000     2019-08  \n",
            "4  BRAND_R         2     4475000     2019-10  \n"
          ]
        }
      ]
    },
    {
      "cell_type": "markdown",
      "source": [
        "`keterangan:`\n",
        "\n",
        "* apply & lambda biasa digunakan untuk membuat kolom baru, berdasarkan suatu kolom lain yang sudah ada (misal .apply(lambda x: x*2) berarti setiap input x di dalam kolom, akan diubah menjadi x*2). Dalam hal ini kolom yang sudah ada adalah dataset['order_date'], lalu tiap nilai di dalamnya kita proses agar menjadi month-nya saja\n",
        "* Function datetime.datetime.strptime digunakan untuk mengubah date/time dalam bentuk string menjadi tipe data datetime.\n",
        "* Function strftime digunakan untuk mengubah format suatu data bertipe datetime, dalam hal ini diubah menjadi '%Y-%m', yang berarti output-nya adalah waktu dengan bentuk YYYY-MM atau tahun dan bulan saja, tanggalnya sudah tidak ada. \n"
      ],
      "metadata": {
        "id": "ty_YqwKA0fcw"
      }
    },
    {
      "cell_type": "markdown",
      "source": [
        "# ***Penambahan Kolom GMV pada Dataset***\n",
        "\n",
        "---\n",
        "\n",
        "```\n",
        "MV adalah perkalian setiap entri di kolom item_price dan kolom quantity.\n",
        "Bisa saja menggunakan fungsi apply & lambda seperti tadi,\n",
        "tetapi ada cara yang lebih mudah yaitu dengan mengalikan kedua kolom yang disebutkan secara langsung.\n",
        "```"
      ],
      "metadata": {
        "id": "McGbvtnZ000a"
      }
    },
    {
      "cell_type": "code",
      "source": [
        "### Penambahan Kolom GMV pada Dataset\n",
        "import pandas as pd\n",
        "import datetime\n",
        "dataset = pd.read_csv(\"https://storage.googleapis.com/dqlab-dataset/retail_raw_reduced.csv\")\n",
        "dataset[\"order_month\"] = dataset[\"order_date\"].apply(lambda x: datetime.datetime.strptime(x, \"%Y-%m-%d\").strftime(\"%Y-%m\"))\n",
        "\n",
        "dataset[\"gmv\"] = dataset[\"item_price\"] * dataset[\"quantity\"]\n",
        "print(\"Ukuran dataset: %d baris dan %d kolom\\n\" % dataset.shape)\n",
        "print(\"Lima data teratas:\")\n",
        "print(dataset.head())"
      ],
      "metadata": {
        "colab": {
          "base_uri": "https://localhost:8080/"
        },
        "id": "tkzBQ2lE0tpg",
        "outputId": "341db8dc-91d2-4b6c-d07e-31ea6cd22e99"
      },
      "execution_count": 13,
      "outputs": [
        {
          "output_type": "stream",
          "name": "stdout",
          "text": [
            "Ukuran dataset: 5000 baris dan 11 kolom\n",
            "\n",
            "Lima data teratas:\n",
            "   order_id  order_date  customer_id             city     province product_id  \\\n",
            "0   1703458  2019-10-17        14004  Jakarta Selatan  DKI Jakarta      P1910   \n",
            "1   1706815  2019-10-24        17220  Jakarta Selatan  DKI Jakarta      P2934   \n",
            "2   1710718  2019-11-03        16518    Jakarta Utara  DKI Jakarta      P0908   \n",
            "3   1683592  2019-08-19        16364    Jakarta Barat  DKI Jakarta      P0128   \n",
            "4   1702573  2019-10-16        15696    Jakarta Timur  DKI Jakarta      P2968   \n",
            "\n",
            "     brand  quantity  item_price order_month      gmv  \n",
            "0  BRAND_J        10      740000     2019-10  7400000  \n",
            "1  BRAND_R         2      604000     2019-10  1208000  \n",
            "2  BRAND_C         8     1045000     2019-11  8360000  \n",
            "3  BRAND_A         4      205000     2019-08   820000  \n",
            "4  BRAND_R         2     4475000     2019-10  8950000  \n"
          ]
        }
      ]
    }
  ]
}