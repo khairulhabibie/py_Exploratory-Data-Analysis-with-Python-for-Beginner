{
  "nbformat": 4,
  "nbformat_minor": 0,
  "metadata": {
    "colab": {
      "provenance": [],
      "authorship_tag": "ABX9TyORzwou1AAQL8PhEmW9l03C",
      "include_colab_link": true
    },
    "kernelspec": {
      "name": "python3",
      "display_name": "Python 3"
    },
    "language_info": {
      "name": "python"
    }
  },
  "cells": [
    {
      "cell_type": "markdown",
      "metadata": {
        "id": "view-in-github",
        "colab_type": "text"
      },
      "source": [
        "<a href=\"https://colab.research.google.com/github/khairulhabibie/py_data_analyst/blob/Exploratory-Data-Analysis-with-Python-for-Beginner/part_2.ipynb\" target=\"_parent\"><img src=\"https://colab.research.google.com/assets/colab-badge.svg\" alt=\"Open In Colab\"/></a>"
      ]
    },
    {
      "cell_type": "markdown",
      "source": [
        "# ***Histogram***\n",
        "---\n",
        "syntax:\n",
        "```\n",
        "nama_dataframe[[\"nama_kolom]].hist(bins=jumlah_bin,\n",
        "                                    by=nama_kolom,\n",
        "                                    alpha=nilai_alpha, \n",
        "                                    figsize=tuple_ukuran_gambar)\n",
        "```\n",
        "keterangan:\n",
        "```\n",
        "* bins = jumlah_bins dalam histogram yang akan digunakan. Jika tidak didefinisikan jumlah_bins, maka function akan secara default menentukan jumlah_bins sebanyak 10.\n",
        "* by = nama kolom di DataFrame untuk di group by. (valuenya berupa nama column di dataframe tersebut).\n",
        "* alpha = nilai_alpha untuk menentukan opacity dari plot di histogram. (value berupa range 0.0 - 1.0, dimana semakin kecil akan semakin kecil opacity nya)\n",
        "* figsize = tuple_ukuran_gambar yang digunakan untuk menentukan ukuran dari plot histogram. Contoh: figsize=(10,12)\n",
        "```\n"
      ],
      "metadata": {
        "id": "vFDGVIUySeaZ"
      }
    },
    {
      "cell_type": "code",
      "source": [
        "import pandas as pd\n",
        "import matplotlib.pyplot as plt\n",
        "order_df = pd.read_csv(\"https://storage.googleapis.com/dqlab-dataset/order.csv\")\n",
        "# plot histogram kolom : price\n",
        "order_df[\"price\"].hist(figsize=(4,5), bins=10, xlabelsize=8, ylabelsize=8)\n",
        "plt.show() # Untuk menampilkan histogram plot\n"
      ],
      "metadata": {
        "colab": {
          "base_uri": "https://localhost:8080/",
          "height": 332
        },
        "id": "s6TLnp0WRtRk",
        "outputId": "07360916-7a7f-4a7e-fb9a-36ec941c9c05"
      },
      "execution_count": 3,
      "outputs": [
        {
          "output_type": "display_data",
          "data": {
            "text/plain": [
              "<Figure size 288x360 with 1 Axes>"
            ],
            "image/png": "[encoded data removed]"
          },
          "metadata": {
            "needs_background": "light"
          }
        }
      ]
    },
    {
      "cell_type": "markdown",
      "source": [
        "# ***Standar Deviasi dan Varians pada Pandas***\n",
        "\n",
        "---\n",
        "\n",
        "```\n",
        "Varians dan standar deviasi juga merupakan suatu ukuran dispersi atau variasi.\n",
        "Standar deviasi merupakan ukuran dispersi yang paling banyak dipakai.\n",
        "Hal ini mungkin karena standar deviasi mempunyai satuan ukuran yang sama dengan satuan ukuran data asalnya.\n",
        "Sedangkan varians memiliki satuan kuadrat dari data asalnya (misalnya cm^2).\n",
        "```"
      ],
      "metadata": {
        "id": "PgC_HU7PUXEt"
      }
    },
    {
      "cell_type": "markdown",
      "source": [
        "syntax:\n",
        "```\n",
        "print([\"nama_dataframe\"].loc[:, \"nama_kolom\"].std())\n",
        "print([\"nama_dataframe\"].loc[:, \"nama_kolom\"].std())\n",
        "```"
      ],
      "metadata": {
        "id": "S_v03u6vcFnW"
      }
    },
    {
      "cell_type": "code",
      "source": [
        "### TUGAS PRAKTEK\n",
        "# menampilkan data persebaran dari product_weight_gram\n",
        "import pandas as pd\n",
        "order_df = pd.read_csv(\"https://storage.googleapis.com/dqlab-dataset/order.csv\")\n",
        "# Standar variasi kolom product_weight_gram\n",
        "order_df.loc[:, \"product_weight_gram\"].std()\n",
        "# Varians kolom product_weight_gram\n",
        "order_df.loc[:, \"product_weight_gram\"].var()"
      ],
      "metadata": {
        "id": "sUdVvDTsata0"
      },
      "execution_count": null,
      "outputs": []
    },
    {
      "cell_type": "markdown",
      "source": [
        "# ***Menemukan Outliers Menggunakan Pandas***\n",
        "\n",
        "---\n",
        "```\n",
        "Outliers merupakan data observasi yang muncul dengan nilai-nilai ekstrim.\n",
        "Yang dimaksud dengan nilai-nilai ekstrim dalam observasi adalah nilai yang jauh atau beda sama sekali dengan sebagian besar nilai lain dalam kelompoknya.\n",
        "```\n",
        "```\n",
        "Pada umumnya, outliers dapat ditentukan dengan metric IQR (interquartile range).\n",
        "Rumus dasar dari IQR: Q3 - Q1.\n",
        "Dan data suatu observasi dapat dikatakan outliers jika memenuhi kedua syarat dibawah ini:\n",
        "\n",
        "data < Q1 - 1.5 * IQR\n",
        "data > Q3 + 1.5 * IQR\n",
        "```\n",
        "syntax:\n",
        "```\n",
        "Q1 = nama_dataframe.quantile(0.25)\n",
        "Q3 = nama_dataframe.quantile(0.75)\n",
        "IQR = Q3 - Q1\n",
        "print(IQR)\n",
        "```\n",
        "contoh penerapan pada dataframe \"nilai_skor_df\":\n",
        "```\n",
        "Q1 = nilai_skor_df[[\"Score]].quantile(0.25)\n",
        "Q3 = nilai_skor_df[[\"Score]].quantile(0.75)\n",
        "IQR = Q3 - Q1\n",
        "print(IQR)\n",
        "```\n",
        "```\n",
        "Karena saat ini memiliki skor IQR, saatnya untuk menentukan Outliers.\n",
        "Kode di bawah ini akan memberikan output dengan beberapa nilai True atau False.\n",
        "Titik data di mana terdapat False yang berarti nilai-nilai ini valid sedangkan True menunjukkan adanya outliers.\n",
        "```\n",
        "syntaxy:\n",
        "```\n",
        "print((nilai_skor_df < (Q1 < 1.5 * IQR)) | nilai_skor_df > Q3 + 1.5 IQR )))\n",
        "```"
      ],
      "metadata": {
        "id": "L9YpqrlvbnqG"
      }
    },
    {
      "cell_type": "code",
      "source": [
        "### TUGAS PRAKTEK : menghitung Outliers\n",
        "import pandas as pd\n",
        "order_df = pd.read_csv(\"https://storage.googleapis.com/dqlab-dataset/order.csv\")\n",
        "# hitung quartile 1\n",
        "Q1 = order_df[\"product_weight_gram\"].quantile(0.25)\n",
        "Q3 = order_df[\"product_weight_gram\"].quantile(0.75)\n",
        "IQR = Q3 - Q1\n",
        "print(IQR)"
      ],
      "metadata": {
        "colab": {
          "base_uri": "https://localhost:8080/"
        },
        "id": "frExAqKubgMJ",
        "outputId": "81ddc9e3-20d4-4aea-cc9c-b1c3e35d2b6f"
      },
      "execution_count": 4,
      "outputs": [
        {
          "output_type": "stream",
          "name": "stdout",
          "text": [
            "1550.0\n"
          ]
        }
      ]
    },
    {
      "cell_type": "markdown",
      "source": [
        "# ***Rename Kolom Data Frame***\n",
        "\n",
        "---\n",
        "\n",
        "```\n",
        "Mengganti nama kolom pada Pandas dapat dilakukan dengan 2 cara:\n",
        "1.   Menggunakan nama kolom.\n",
        "2.   Menggunakan indeks kolom.\n",
        "```\n",
        "1 - Rename menggunakan nama kolom.\n",
        "syntax: \n",
        "```\n",
        "nama_dataframe.rename(\"columns={columns_name_before\":\"columns_name_after}, inplce=True)\n",
        "```\n",
        "contoh penggunaan: \n",
        "```\n",
        "nilai_skor_df.rename(columns={\"Age\":\"Umur\"}, inplace=True)\n",
        "```\n",
        "2 - Rename menggunakan indeks kolom.\n",
        "syntax:\n",
        "```\n",
        "nama_dataframe.columns.values[no_of_column] = \"column_name_after\"\n",
        "```\n",
        "contoh penggunaan:\n",
        "```\n",
        "nilai_skor_df.columns.value[0] = \"Umur\"\n",
        "```"
      ],
      "metadata": {
        "id": "gQR44K28iwjq"
      }
    },
    {
      "cell_type": "code",
      "source": [
        "### TUGAS PRAKTEK : rename nama kolon\n",
        "order_df = pd.read_csv(\"https://storage.googleapis.com/dqlab-dataset/order.csv\")\n",
        "# Ganti nama kolom freight_value menjadi shipping_cost\n",
        "order_df.rename(columns={\"freight_value\":\"shipping_cost\"}, inplace = True)\n",
        "print(order_df.head())"
      ],
      "metadata": {
        "colab": {
          "base_uri": "https://localhost:8080/"
        },
        "id": "awVRXQ9SksrM",
        "outputId": "0c750db5-8623-4abd-bbbd-390ece93793b"
      },
      "execution_count": 7,
      "outputs": [
        {
          "output_type": "stream",
          "name": "stdout",
          "text": [
            "                           order_id  quantity  \\\n",
            "0  2e7a8482f6fb09756ca50c10d7bfc047         2   \n",
            "1  2e7a8482f6fb09756ca50c10d7bfc047         1   \n",
            "2  e5fa5a7210941f7d56d0208e4e071d35         1   \n",
            "3  3b697a20d9e427646d92567910af6d57         1   \n",
            "4  71303d7e93b399f5bcd537d124c0bcfa         1   \n",
            "\n",
            "                         product_id    price  \\\n",
            "0  f293394c72c9b5fafd7023301fc21fc2  1489000   \n",
            "1  c1488892604e4ba5cff5b4eb4d595400  1756000   \n",
            "2  f3c2d01a84c947b078e32bbef0718962  1707000   \n",
            "3  3ae08df6bcbfe23586dd431c40bddbb7  3071000   \n",
            "4  d2998d7ced12f83f9b832f33cf6507b6  3833000   \n",
            "\n",
            "                          seller_id  shipping_cost  \\\n",
            "0  1554a68530182680ad5c8b042c3ab563          28000   \n",
            "1  1554a68530182680ad5c8b042c3ab563          45000   \n",
            "2  a425f92c199eb576938df686728acd20         174000   \n",
            "3  522620dcb18a6b31cd7bdf73665113a9         154000   \n",
            "4  25e6ffe976bd75618accfe16cefcbd0d         147000   \n",
            "\n",
            "                        customer_id order_status purchase_date  \\\n",
            "0  08c5351a6aca1c1589a38f244edeee9d      shipped    2016-09-05   \n",
            "1  08c5351a6aca1c1589a38f244edeee9d      shipped    2016-09-05   \n",
            "2  683c54fc24d40ee9f8a6fc179fd9856c     canceled    2016-09-05   \n",
            "3  355077684019f7f60a031656bd7262b8    delivered    2016-10-03   \n",
            "4  b106b360fe2ef8849fbbd056f777b4d5     canceled    2016-10-03   \n",
            "\n",
            "      payment_type product_category_name  product_weight_gram  \n",
            "0  virtual account               fashion               1800.0  \n",
            "1  virtual account            automotive               1400.0  \n",
            "2         e-wallet                  toys                700.0  \n",
            "3         e-wallet             utilities                300.0  \n",
            "4         e-wallet               fashion                500.0  \n"
          ]
        }
      ]
    },
    {
      "cell_type": "code",
      "source": [],
      "metadata": {
        "id": "RN2ULIV9obC4"
      },
      "execution_count": null,
      "outputs": []
    }
  ]
}